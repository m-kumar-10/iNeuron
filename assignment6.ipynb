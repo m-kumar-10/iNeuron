{
 "cells": [
  {
   "cell_type": "code",
   "execution_count": 1,
   "metadata": {},
   "outputs": [
    {
     "name": "stdout",
     "output_type": "stream",
     "text": [
      "Object `expressions` not found.\n",
      "e\n",
      "Hello\n",
      "Hello\n",
      "lo, world!\n"
     ]
    }
   ],
   "source": [
    "# 1. What are escape characters, and how do you use them?\n",
    "\n",
    "# To insert characters that are illegal in a string, use an escape character.\n",
    "# An escape character is a backslash \\ followed by the character you want to insert.\n",
    "\n",
    "\n",
    "\n",
    "\n",
    "# 2. What do the escape characters n and t stand for?\n",
    "\n",
    "# The escape charater \\n stands for new line while \\t stands for new tab space.\n",
    "\n",
    "\n",
    "\n",
    "\n",
    "# 3. What is the way to include backslash characters in a string?\n",
    "\n",
    "# we use two backslash to include one, for example : string = 'This should include a \\\\ backslash in it.'\n",
    "\n",
    "\n",
    "\n",
    "# 4. The string \"Howl's Moving Castle\" is a correct value. Why isn't the single quote character in the word Howl's not escaped a problem?\n",
    "\n",
    "# Because to we have inserted the strings into duble quotes symbol. < \" \" >\n",
    "\n",
    "\n",
    "6. What are the values of the given expressions?\n",
    "    # 1. 'Hello, world!'[1]\n",
    "    # 2. 'Hello, world!'[0:5]\n",
    "    # 3. 'Hello, world!'[:5]\n",
    "    # 4. 'Hello, world!'[3:]\n",
    "print('Hello, world!'[1]) #First charcter in string.\n",
    "print('Hello, world!'[0:5]) #From first to 5th character in string.\n",
    "print('Hello, world!'[:5]) #From first to 5th character in string.\n",
    "print('Hello, world!'[3:]) # From 3rd charcter till end of string.\n"
   ]
  },
  {
   "cell_type": "code",
   "execution_count": 2,
   "metadata": {},
   "outputs": [
    {
     "name": "stdout",
     "output_type": "stream",
     "text": [
      "HELLO\n",
      "True\n",
      "hello\n"
     ]
    }
   ],
   "source": [
    "# 7. What are the values of the following expressions?\n",
    "#     1. 'Hello'.upper()\n",
    "#     2. 'Hello'.upper().isupper()\n",
    "#     3. 'Hello'.upper().lower()\n",
    "\n",
    "print('Hello'.upper()) # Make text to upper case.\n",
    "print('Hello'.upper().isupper()) # Check if text is in upper case\n",
    "print('Hello'.upper().lower())\n",
    "\n"
   ]
  },
  {
   "cell_type": "code",
   "execution_count": 6,
   "metadata": {},
   "outputs": [
    {
     "name": "stdout",
     "output_type": "stream",
     "text": [
      "['Remember,', 'remember,', 'the', 'fifth', 'of', 'July.']\n",
      "There-can-only-one.\n"
     ]
    }
   ],
   "source": [
    "# 8. What are the values of the following expressions?\n",
    "    # 1. 'Remember, remember, the fifth of July.'.split()\n",
    "    # 2. '-'.join('There can only one.'.split())\n",
    "\n",
    "print('Remember, remember, the fifth of July.'.split())  # Gives a list of word seprated by space\n",
    "print('-'.join('There can only one.'.split())) #give a string  with each word of list joined by <->"
   ]
  },
  {
   "cell_type": "code",
   "execution_count": 20,
   "metadata": {},
   "outputs": [
    {
     "name": "stdout",
     "output_type": "stream",
     "text": [
      "                      String                      \n",
      "                                       String\n",
      "String                                       \n"
     ]
    }
   ],
   "source": [
    "# 9. What are the methods for right-justifying, left-justifying, and centering a string?\n",
    "\n",
    "# Below are the methods to align strings.\n",
    "print('String'.center(50))\n",
    "print('String'.rjust(45))\n",
    "print('String'.ljust(45))\n"
   ]
  },
  {
   "cell_type": "code",
   "execution_count": 22,
   "metadata": {},
   "outputs": [
    {
     "name": "stdout",
     "output_type": "stream",
     "text": [
      "String with whitespace    This string contains whitespace       \n",
      " and its length: 40\n",
      "\n",
      "\n",
      "String without whitespace This string contains whitespace \n",
      " and its length: 31\n"
     ]
    }
   ],
   "source": [
    "# 10. What is the best way to remove whitespace characters from the start or end?\n",
    "\n",
    "# To remove whitespace both from start:end we use strip() function.function\n",
    "string = '   This string contains whitespace      '\n",
    "print(\"String with whitespace\",string, '\\n and its length:',len(string))\n",
    "string = string.strip()\n",
    "print(\"\\n\\nString without whitespace\",string, '\\n and its length:',len(string))\n"
   ]
  }
 ],
 "metadata": {
  "kernelspec": {
   "display_name": "Python 3.9.12 ('base')",
   "language": "python",
   "name": "python3"
  },
  "language_info": {
   "codemirror_mode": {
    "name": "ipython",
    "version": 3
   },
   "file_extension": ".py",
   "mimetype": "text/x-python",
   "name": "python",
   "nbconvert_exporter": "python",
   "pygments_lexer": "ipython3",
   "version": "3.9.12"
  },
  "orig_nbformat": 4,
  "vscode": {
   "interpreter": {
    "hash": "6a83b5268e943b050afe2cdfe22fa73ffc098cc0457029bd646918aaf6d8ff19"
   }
  }
 },
 "nbformat": 4,
 "nbformat_minor": 2
}
