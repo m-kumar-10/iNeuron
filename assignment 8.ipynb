{
 "cells": [
  {
   "cell_type": "raw",
   "id": "9ed5fd98",
   "metadata": {},
   "source": [
    "1.   Is the Python Standard Library included with PyInputPlus?\n",
    "Ans. PyInputPlus is not a part of the Python Standard Library,\n",
    "     so you must install it separately using Pip"
   ]
  },
  {
   "cell_type": "raw",
   "id": "847c0925",
   "metadata": {},
   "source": [
    "2. Why is PyInputPlus commonly imported with import pyinputplus as pypi?\n",
    "Ans. It is given an Alias so that we can call it easily with shorter name."
   ]
  },
  {
   "cell_type": "raw",
   "id": "5f825ccc",
   "metadata": {},
   "source": [
    "3. How do you distinguish between inputInt() and inputFloat()?\n",
    "Ans. inputInt() : Accepts an integer value. \n",
    "     This also takes additional parameters ‘min’, ‘max’, ‘greaterThan’ and ‘lessThan’  for bounds. Returns an int.\n",
    "        \n",
    "    inputFloat() : Accepts a floating-point numeric value. \n",
    "        Also takes additional ‘min’, ‘max’, ‘greaterThan’ and ‘lessThan’  parameters. Returns a float."
   ]
  },
  {
   "cell_type": "code",
   "execution_count": 11,
   "id": "96648ff2",
   "metadata": {},
   "outputs": [],
   "source": [
    "# 4. Using PyInputPlus, how do you ensure that the user enters a whole number between 0 and 99?\n",
    "\n",
    "# pip install PyInputPlus\n",
    "import pyinputplus as pipls\n",
    "\n",
    "input_int = pipls.inputInt(prompt='Enter your number between 0-99', \n",
    "                           default=0,limit=4,\n",
    "                          min=0, max=99)"
   ]
  },
  {
   "cell_type": "raw",
   "id": "66e6ec96",
   "metadata": {},
   "source": [
    "5. What is transferred to the keyword arguments allowRegexes and blockRegexes?\n",
    "Ans. AllowRegexes> With this we can accept All the input from user , on  top of that also, accept those input \n",
    "                    who matches given RegExp.\n",
    "     BlockRegexes> With this, we accept all input from user, except those which matches given regExp.\n",
    "    \n",
    "    \n",
    "So, Basically they are are used altogether to Block first and if not blocked then , check if it matches\n",
    "allowed regexp, then take that input.\n",
    "BlockExp should be used first, because allowRegexps override the blockRegexp."
   ]
  },
  {
   "cell_type": "raw",
   "id": "d17504c7",
   "metadata": {},
   "source": [
    "7. If blank input is entered three times, what does inputStr(limit=3, default='hello') do?\n",
    "Ans. If blank input is given 3 times in this, then It will retreive it's default value of string\n",
    "     which is <hello>"
   ]
  },
  {
   "cell_type": "code",
   "execution_count": null,
   "id": "09c5de47",
   "metadata": {},
   "outputs": [],
   "source": []
  }
 ],
 "metadata": {
  "kernelspec": {
   "display_name": "Python 3 (ipykernel)",
   "language": "python",
   "name": "python3"
  },
  "language_info": {
   "codemirror_mode": {
    "name": "ipython",
    "version": 3
   },
   "file_extension": ".py",
   "mimetype": "text/x-python",
   "name": "python",
   "nbconvert_exporter": "python",
   "pygments_lexer": "ipython3",
   "version": "3.9.12"
  }
 },
 "nbformat": 4,
 "nbformat_minor": 5
}
