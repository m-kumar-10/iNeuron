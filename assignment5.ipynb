{
 "cells": [
  {
   "cell_type": "code",
   "execution_count": 1,
   "metadata": {},
   "outputs": [
    {
     "name": "stdout",
     "output_type": "stream",
     "text": [
      "42\n"
     ]
    }
   ],
   "source": [
    "# 1. What does an empty dictionary's code look like?\n",
    "\n",
    "# This is how we create empty dictionary.\n",
    "empty_dict = {}\n",
    "\n",
    "\n",
    "\n",
    "# 2. What is the value of a dictionary value with the key 'foo' and the value 42?\n",
    "dictionay = {'foo':42}\n",
    "print(dictionay['foo']) # value of foo in dictionary\n",
    "\n"
   ]
  },
  {
   "cell_type": "code",
   "execution_count": 23,
   "metadata": {},
   "outputs": [
    {
     "name": "stdout",
     "output_type": "stream",
     "text": [
      "[{'Age': '23', 'Country': 'USA', 'Name': 'John'},\n",
      " {'Age': '44', 'Country': 'Spain', 'Name': 'Jose'},\n",
      " {'Age': '29', 'Country': 'UK', 'Name': 'Anne'},\n",
      " {'Age': '35', 'Country': 'Japan', 'Name': 'Lee'}]\n"
     ]
    }
   ],
   "source": [
    "# 3. What is the most significant distinction between a dictionary and a list?\n",
    "\n",
    "# List contains variables of all distinct types, and can be accesed using index position, can be sliced.\n",
    "# but in dictionay, variables are stored in KEY:VALUE pair, one key can contain multiple values,\n",
    "# dictionay have always unique keys, but values inside them can be duplicated.\n",
    "\n",
    "\n",
    "\n",
    "# 4. What happens if you try to access spam['foo'] if spam is {'bar': 100}?\n",
    "\n",
    "# Since spam doesn't contains any <foo> as key, therfore it will thorw error.\n",
    "\n",
    "\n",
    "\n",
    "\n",
    "# 5. If a dictionary is stored in spam, what is the difference between the expressions 'cat' in spam and 'cat' in spam.keys()?\n",
    "\n",
    "# When talking about <cat> in spam, it refers to key.\n",
    "# While inside spam.keys() the <'cat'> is string object  inside a list, since keys() gives list of all availble keys.\n",
    "\n",
    "\n",
    "\n",
    "\n",
    "# 6. If a dictionary is stored in spam, what is the difference between the expressions 'cat' in spam and 'cat' in spam.values()?\n",
    "\n",
    "# cat in spam means , cat is one of the key in spam, while, cat in spam.values() means, it's inside spam as value.\n",
    "\n",
    "\n",
    "\n",
    "\n",
    "# 7. What is a shortcut for the following code?\n",
    "# if 'color' not in spam:\n",
    "# spam['color'] = 'black'\n",
    "# The code is folowing\n",
    "\n",
    "spam.setdefault('color','black')\n",
    "\n",
    "\n",
    "\n",
    "\n",
    "\n",
    "# 8. How do you \"pretty print\" dictionary values using which module and function?\n",
    "import pprint\n",
    "dct_arr = [\n",
    "  {'Name': 'John', 'Age': '23', 'Country': 'USA'},\n",
    "  {'Name': 'Jose', 'Age': '44', 'Country': 'Spain'},\n",
    "  {'Name': 'Anne', 'Age': '29', 'Country': 'UK'},\n",
    "  {'Name': 'Lee', 'Age': '35', 'Country': 'Japan'}\n",
    "]\n",
    "\n",
    "pprint.pprint(dct_arr)"
   ]
  },
  {
   "cell_type": "code",
   "execution_count": null,
   "metadata": {},
   "outputs": [],
   "source": []
  }
 ],
 "metadata": {
  "kernelspec": {
   "display_name": "Python 3.9.12 ('base')",
   "language": "python",
   "name": "python3"
  },
  "language_info": {
   "codemirror_mode": {
    "name": "ipython",
    "version": 3
   },
   "file_extension": ".py",
   "mimetype": "text/x-python",
   "name": "python",
   "nbconvert_exporter": "python",
   "pygments_lexer": "ipython3",
   "version": "3.9.12"
  },
  "orig_nbformat": 4,
  "vscode": {
   "interpreter": {
    "hash": "6a83b5268e943b050afe2cdfe22fa73ffc098cc0457029bd646918aaf6d8ff19"
   }
  }
 },
 "nbformat": 4,
 "nbformat_minor": 2
}
