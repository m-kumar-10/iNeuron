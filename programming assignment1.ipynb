{
 "cells": [
  {
   "cell_type": "markdown",
   "metadata": {},
   "source": [
    "### 1.Write a Python program to convert kilometers to miles?"
   ]
  },
  {
   "cell_type": "code",
   "execution_count": 29,
   "metadata": {},
   "outputs": [
    {
     "data": {
      "text/plain": [
       "'0.3 miles = 0.48 km'"
      ]
     },
     "execution_count": 29,
     "metadata": {},
     "output_type": "execute_result"
    }
   ],
   "source": [
    "def convert_distance(convert_to='km',distance='1'):\n",
    "    '''\n",
    "    This function can convert distance in km to miles and vice versa\n",
    "    convert_to = \"km\" or \"mile\"   \n",
    "    \n",
    "    distance = distance you wants to convert\n",
    "    '''\n",
    "    \n",
    "    if convert_to=='km':\n",
    "        result = distance*1.60934\n",
    "        result = \"{:.2f}\".format(result)\n",
    "        return f\"{distance} miles = {result} km\"\n",
    "\n",
    "    elif convert_to=='mile':\n",
    "        result=(distance/1.60934)\n",
    "        return \"{} kms = {:.2f}\".format(distance,result)\n",
    "\n",
    "    else:\n",
    "        raise IOError(' Available conversion Type is not selected.')\n",
    "\n",
    "convert_distance('km',0.3)"
   ]
  },
  {
   "cell_type": "markdown",
   "metadata": {},
   "source": [
    "### 2.\tWrite a Python program to convert Celsius to Fahrenheit?"
   ]
  },
  {
   "cell_type": "code",
   "execution_count": 6,
   "metadata": {},
   "outputs": [
    {
     "name": "stdout",
     "output_type": "stream",
     "text": [
      "Enter a choice of conversion \n",
      ">[F] for converting temp to Farenheit\n",
      ">[C] for Converting Temp to CelciusF\n",
      "\n",
      "\n",
      "Enter a temprature234\n"
     ]
    },
    {
     "data": {
      "text/plain": [
       "'234.0 Celcius  = 453.20 Farenheit'"
      ]
     },
     "execution_count": 6,
     "metadata": {},
     "output_type": "execute_result"
    }
   ],
   "source": [
    "def convert_temp():\n",
    "    import pyinputplus as pyp\n",
    "\n",
    "    convert_to = pyp.inputChoice(choices=['F','C'],\n",
    "                                prompt=\"Enter a choice of conversion \\n>[F] for converting temp to Farenheit\\n>[C] for Converting Temp to Celcius\",\n",
    "                                limit=4,blank=True,default='F')\n",
    "    temprature = pyp.inputFloat(prompt='\\n\\nEnter a temprature',default=0,\n",
    "                                min=-273.15,max=None,limit=5,blank=True)\n",
    "    if convert_to=='F':\n",
    "        '1°C × 9/5) + 32 = 33.8°F'\n",
    "        result = (temprature*(9/5)+32)\n",
    "        return \"{} Celcius  = {:.2f} Farenheit\".format(temprature,result)\n",
    "    elif convert_to=='C':\n",
    "        result = (temprature-32)*(5/9)\n",
    "        return \"{} Celcius = {:.2f} Farenheit\".format(temprature,result)\n",
    "convert_temp()"
   ]
  },
  {
   "cell_type": "markdown",
   "metadata": {},
   "source": [
    "### 3.\tWrite a Python program to display calendar?"
   ]
  },
  {
   "cell_type": "code",
   "execution_count": 10,
   "metadata": {},
   "outputs": [
    {
     "name": "stdout",
     "output_type": "stream",
     "text": [
      "Enter a year2022\n",
      "Enter month number8\n",
      "    August 2022\n",
      "Mo Tu We Th Fr Sa Su\n",
      " 1  2  3  4  5  6  7\n",
      " 8  9 10 11 12 13 14\n",
      "15 16 17 18 19 20 21\n",
      "22 23 24 25 26 27 28\n",
      "29 30 31\n",
      "\n"
     ]
    }
   ],
   "source": [
    "from calendar import month\n",
    "\n",
    "\n",
    "def get_calendar():\n",
    "    import calendar,pyinputplus as pyp\n",
    "\n",
    "    year = pyp.inputInt(prompt='Enter a year',\n",
    "                        min=1600,max=2200,default=2022,blank=True,limit=5)\n",
    "    month = pyp.inputInt(prompt='Enter month number',\n",
    "                        min=1,max=12,default=1,blank=True,limit=5)\n",
    "    print(calendar.month(year,month))\n",
    "get_calendar()"
   ]
  },
  {
   "cell_type": "markdown",
   "metadata": {},
   "source": [
    "### 4.\tWrite a Python program to solve quadratic equation?"
   ]
  },
  {
   "cell_type": "code",
   "execution_count": 92,
   "metadata": {},
   "outputs": [
    {
     "name": "stdout",
     "output_type": "stream",
     "text": [
      "coefficients: 1 -5 6 0\n",
      "\n",
      "\n",
      "roots of equation: 1x**2-5x+6=0 \n",
      "root 1:3.0 \n",
      "root 2:2.0\n"
     ]
    }
   ],
   "source": [
    "def solve_quadratic_eqn(equation='1x**2 + 1x + 1 = 0'):\n",
    "    # Lett's extract numbers first, out of equation.\n",
    "    import re\n",
    "    regObj = re.compile('(?<!\\*\\*)-?\\d+')\n",
    "    result = regObj.findall(equation)\n",
    "    a, b, c, d = int(result[0]),int(result[1]),int(result[2]),int(result[3])\n",
    "    \n",
    "    print('coefficients:',a,b,c,d)\n",
    "    \n",
    "    # Now lets solve this\n",
    "    root_1 = (-b + (b*b - 4*a*c)**0.5)/2*a\n",
    "    root_2 = (-b - (b*b - 4*a*c)**0.5)/2*a\n",
    "    print('\\n\\nroots of equation: {0} \\nroot 1:{1} \\nroot 2:{2}'.format(equation,root_1,root_2))\n",
    "    \n",
    "solve_quadratic_eqn('1x**2-5x+6=0')"
   ]
  },
  {
   "cell_type": "markdown",
   "metadata": {},
   "source": [
    "### 5.\tWrite a Python program to swap two variables without temp variable?"
   ]
  },
  {
   "cell_type": "code",
   "execution_count": 95,
   "metadata": {},
   "outputs": [
    {
     "data": {
      "text/plain": [
       "'swapped number is (7, 5)'"
      ]
     },
     "execution_count": 95,
     "metadata": {},
     "output_type": "execute_result"
    }
   ],
   "source": [
    "def swap_two_variables(var1,var2):\n",
    "    var1,var2 = int(var1), int(var2)\n",
    "    var1=var1+var2\n",
    "    var2 = var1 - var2\n",
    "    var1 = var1 - var2\n",
    "    return f\"swapped number is {(var1,var2)}\"\n",
    "\n",
    "swap_two_variables(5,7)"
   ]
  },
  {
   "cell_type": "code",
   "execution_count": null,
   "metadata": {},
   "outputs": [],
   "source": []
  }
 ],
 "metadata": {
  "kernelspec": {
   "display_name": "Python 3 (ipykernel)",
   "language": "python",
   "name": "python3"
  },
  "language_info": {
   "codemirror_mode": {
    "name": "ipython",
    "version": 3
   },
   "file_extension": ".py",
   "mimetype": "text/x-python",
   "name": "python",
   "nbconvert_exporter": "python",
   "pygments_lexer": "ipython3",
   "version": "3.9.12"
  },
  "vscode": {
   "interpreter": {
    "hash": "6a83b5268e943b050afe2cdfe22fa73ffc098cc0457029bd646918aaf6d8ff19"
   }
  }
 },
 "nbformat": 4,
 "nbformat_minor": 2
}
