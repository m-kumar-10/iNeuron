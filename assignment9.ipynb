{
 "cells": [
  {
   "cell_type": "markdown",
   "id": "c5f91074",
   "metadata": {},
   "source": [
    "<H1 style='color:orange;'>> Questions </H1>"
   ]
  },
  {
   "cell_type": "raw",
   "id": "9d5b109b",
   "metadata": {
    "slideshow": {
     "slide_type": "subslide"
    }
   },
   "source": [
    "1. To what does a relative path refer?\n",
    "2. What does an absolute path start with your operating system?\n",
    "3. What do the functions os.getcwd() and os.chdir() do?\n",
    "4. What are the . and .. folders?\n",
    "5. In C:\\bacon\\eggs\\spam.txt, which part is the dir name, and which part is the base name?\n",
    "6. What are the three “mode” arguments that can be passed to the open() function?\n",
    "7. What happens if an existing file is opened in write mode?\n",
    "8. How do you tell the difference between read() and readlines()?\n",
    "9. What data structure does a shelf value resemble?"
   ]
  },
  {
   "cell_type": "markdown",
   "id": "5a640fb9",
   "metadata": {},
   "source": [
    "<H1 style='color:orange;'>> Answer </H1>"
   ]
  },
  {
   "cell_type": "raw",
   "id": "34503f54",
   "metadata": {},
   "source": [
    "1Ans. \n",
    "    A relative path refers to a location that is relative to a current directory.\n",
    "    Relative paths make use of two special symbols, a dot (.) and a double-dot (..),"
   ]
  },
  {
   "cell_type": "raw",
   "id": "8ffee206",
   "metadata": {},
   "source": [
    "2Ans.\n",
    "    An absolute path start with with root directory and In windows Operating System.\n",
    "    It starts with c://"
   ]
  },
  {
   "cell_type": "raw",
   "id": "c109a96f",
   "metadata": {},
   "source": [
    "3Ans.\n",
    "    os.getcwd() > It gives us current working directory \n",
    "    os.chdir() > It is used to change the working directory."
   ]
  },
  {
   "cell_type": "raw",
   "id": "375520fc",
   "metadata": {},
   "source": [
    "4Ans.\n",
    "    the . is used to sginify the current working Directory\n",
    "    while .. is used to signify parents working directory."
   ]
  },
  {
   "cell_type": "raw",
   "id": "820f3392",
   "metadata": {},
   "source": [
    "5Ans.\n",
    "    C:\\bacon\\eggs\\spam.txt\n",
    "        "
   ]
  },
  {
   "cell_type": "raw",
   "id": "c25b8861",
   "metadata": {},
   "source": [
    "6Ans.\n",
    "    Three mode argument which can be passed into open().\n",
    "    r>read-only\n",
    "    w>write-only\n",
    "    a+>read+append"
   ]
  },
  {
   "cell_type": "raw",
   "id": "a54160b4",
   "metadata": {},
   "source": [
    "7Ans.\n",
    "    If a existing file is opened in writemode, then it's previous text will be erased and new text will be written only."
   ]
  },
  {
   "cell_type": "raw",
   "id": "0259aebf",
   "metadata": {},
   "source": [
    "8Ans.\n",
    "    read()> This will read whole text file and bring the file pointer to last location.\n",
    "    readline()>This will read only line by line. and will bring the pointer next to previous line."
   ]
  },
  {
   "cell_type": "code",
   "execution_count": null,
   "id": "eacd3479",
   "metadata": {},
   "outputs": [],
   "source": [
    "9Ans.\n",
    "    A self valve resemble of Dictionary, \n",
    "    It has key:value pair."
   ]
  }
 ],
 "metadata": {
  "celltoolbar": "Slideshow",
  "kernelspec": {
   "display_name": "Python 3 (ipykernel)",
   "language": "python",
   "name": "python3"
  },
  "language_info": {
   "codemirror_mode": {
    "name": "ipython",
    "version": 3
   },
   "file_extension": ".py",
   "mimetype": "text/x-python",
   "name": "python",
   "nbconvert_exporter": "python",
   "pygments_lexer": "ipython3",
   "version": "3.9.12"
  }
 },
 "nbformat": 4,
 "nbformat_minor": 5
}
