{
 "cells": [
  {
   "cell_type": "markdown",
   "id": "c5f91074",
   "metadata": {},
   "source": [
    "<H1 style='color:orange;'>> Questions </H1>"
   ]
  },
  {
   "cell_type": "code",
   "execution_count": null,
   "id": "e3f56765",
   "metadata": {
    "slideshow": {
     "slide_type": "subslide"
    }
   },
   "outputs": [],
   "source": [
    "1. To what does a relative path refer?\n",
    "2. What does an absolute path start with your operating system?\n",
    "3. What do the functions os.getcwd() and os.chdir() do?\n",
    "4. What are the . and .. folders?\n",
    "5. In C:\\bacon\\eggs\\spam.txt, which part is the dir name, and which part is the base name?\n",
    "6. What are the three “mode” arguments that can be passed to the open() function?\n",
    "7. What happens if an existing file is opened in write mode?\n",
    "8. How do you tell the difference between read() and readlines()?\n",
    "9. What data structure does a shelf value resemble?"
   ]
  },
  {
   "cell_type": "markdown",
   "id": "5a640fb9",
   "metadata": {},
   "source": [
    "<H1 style='color:orange;'>> Answer </H1>"
   ]
  },
  {
   "cell_type": "code",
   "execution_count": 1,
   "id": "b7f07419",
   "metadata": {},
   "outputs": [],
   "source": [
    "1Ans. \n",
    "    A relative path refers to a location that is relative to a current directory.\n",
    "    Relative paths make use of two special symbols, a dot (.) and a double-dot (..),"
   ]
  },
  {
   "cell_type": "code",
   "execution_count": null,
   "id": "59248538",
   "metadata": {},
   "outputs": [],
   "source": [
    "2Ans.\n",
    "    An absolute path start with with root directory and In windows Operating System.\n",
    "    It starts with c://"
   ]
  },
  {
   "cell_type": "code",
   "execution_count": null,
   "id": "a06581e2",
   "metadata": {},
   "outputs": [],
   "source": [
    "3Ans.\n",
    "    os.getcwd() > It gives us current working directory \n",
    "    os.chdir() > It is used to change the working directory."
   ]
  },
  {
   "cell_type": "code",
   "execution_count": null,
   "id": "c892a008",
   "metadata": {},
   "outputs": [],
   "source": [
    "4Ans.\n",
    "    the . is used to sginify the current working Directory\n",
    "    while .. is used to signify parents working directory."
   ]
  },
  {
   "cell_type": "code",
   "execution_count": null,
   "id": "d0a5df23",
   "metadata": {},
   "outputs": [],
   "source": [
    "5Ans.\n",
    "    C:\\bacon\\eggs\\spam.txt\n",
    "        "
   ]
  },
  {
   "cell_type": "code",
   "execution_count": null,
   "id": "d9aa550d",
   "metadata": {},
   "outputs": [],
   "source": [
    "6Ans.\n",
    "    Three mode argument which can be passed into open().\n",
    "    r>read-only\n",
    "    w>write-only\n",
    "    a+>read+append"
   ]
  },
  {
   "cell_type": "code",
   "execution_count": null,
   "id": "3a576990",
   "metadata": {},
   "outputs": [],
   "source": [
    "7Ans.\n",
    "    If a existing file is opened in writemode, then it's previous text will be erased and new text will be written only."
   ]
  },
  {
   "cell_type": "code",
   "execution_count": null,
   "id": "cc85d231",
   "metadata": {},
   "outputs": [],
   "source": [
    "8Ans.\n",
    "    read()> This will read whole text file and bring the file pointer to last location.\n",
    "    readline()>This will read only line by line. and will bring the pointer next to previous line."
   ]
  },
  {
   "cell_type": "code",
   "execution_count": null,
   "id": "eacd3479",
   "metadata": {},
   "outputs": [],
   "source": [
    "9Ans.\n",
    "    A self valve resemble of Dictionary, \n",
    "    It has key:value pair."
   ]
  }
 ],
 "metadata": {
  "celltoolbar": "Slideshow",
  "kernelspec": {
   "display_name": "Python 3 (ipykernel)",
   "language": "python",
   "name": "python3"
  },
  "language_info": {
   "codemirror_mode": {
    "name": "ipython",
    "version": 3
   },
   "file_extension": ".py",
   "mimetype": "text/x-python",
   "name": "python",
   "nbconvert_exporter": "python",
   "pygments_lexer": "ipython3",
   "version": "3.9.12"
  }
 },
 "nbformat": 4,
 "nbformat_minor": 5
}
