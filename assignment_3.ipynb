{
 "cells": [
  {
   "cell_type": "markdown",
   "metadata": {},
   "source": [
    "1. Why are functions advantageous to have in your programs?\n",
    "> Function are advantageous because consider, a situation where we have to use same peice of code again and again,  \n",
    "then in that case writing same code on repreat doesn't seems to be good practice. In spite of that , we can declare a function \n",
    "with same code, and then call that function everytime we need it. this will make our code easier to read and use.UserWarning"
   ]
  },
  {
   "cell_type": "markdown",
   "metadata": {},
   "source": [
    "2. When does the code in a function run: when it's specified or when it's called?  \n",
    "> Specifying code just mean, writing code of that function    \n",
    "Code in function run, when we give a call to function."
   ]
  },
  {
   "cell_type": "markdown",
   "metadata": {},
   "source": [
    "3. What statement creates a function?  \n",
    "Function is created using `def` statement.  \n",
    "*for example:*    def function_Name(parameters):"
   ]
  },
  {
   "cell_type": "markdown",
   "metadata": {},
   "source": [
    "4. What is the difference between a function and a function call?  \n",
    "> Function is just a block of code.  \n",
    "but a function call mean, calling that function, in order to execute it's code, on some parameters."
   ]
  },
  {
   "cell_type": "markdown",
   "metadata": {},
   "source": [
    "5. How many global scopes are there in a Python program? How many local scopes?  \n",
    "> There is only one Global Scope in pyhton, but there are 3 Local scope, Local/Global/builtIn"
   ]
  },
  {
   "cell_type": "markdown",
   "metadata": {},
   "source": [
    "6. What happens to variables in a local scope when the function call returns?  \n",
    "> A local variable retains its value until the next time the function is called A local variable becomes undefined after the function call completes The local variable can be used outside the function any time after the function call completes."
   ]
  },
  {
   "cell_type": "markdown",
   "metadata": {},
   "source": [
    "7. What is the concept of a return value? Is it possible to have a return value in an expression?  \n",
    "When a function return something after it's code execution complete, its called return value.\n",
    "It's possible to return value in expression,   \n",
    "For example:"
   ]
  },
  {
   "cell_type": "code",
   "execution_count": 2,
   "metadata": {},
   "outputs": [
    {
     "data": {
      "text/plain": [
       "33"
      ]
     },
     "execution_count": 2,
     "metadata": {},
     "output_type": "execute_result"
    }
   ],
   "source": [
    "def func (input):\n",
    "    return int(input/2)\n",
    "\n",
    "44 - func(22)"
   ]
  },
  {
   "cell_type": "markdown",
   "metadata": {},
   "source": [
    "8. If a function does not have a return statement, what is the return value of a call to that function?  \n",
    "> If its not having any return statement, then its non returning function and won't return any value,   \n",
    "It's return value is Nonem"
   ]
  },
  {
   "cell_type": "markdown",
   "metadata": {},
   "source": [
    "9. How do you make a function variable refer to the global variable?  \n",
    "> We can make a vaiable defined in function, refers to gloabl varibale by using `global` statement before   declaring that fucntion,    *for example:* gloabl variable_name = 33"
   ]
  },
  {
   "cell_type": "markdown",
   "metadata": {},
   "source": [
    "10. What is the data type of None?  \n",
    "None is data type of it's own, i.e NoneType"
   ]
  },
  {
   "cell_type": "markdown",
   "metadata": {},
   "source": [
    "11. What does the sentence import areallyourpetsnamederic do?  \n",
    "> This will import library named `areallyourpetsnamederic`"
   ]
  },
  {
   "cell_type": "markdown",
   "metadata": {},
   "source": [
    "12. If you had a bacon() feature in a spam module, what would you call it after importing spam? \n",
    "> import spam  \n",
    "spam.bacon()"
   ]
  },
  {
   "cell_type": "markdown",
   "metadata": {},
   "source": [
    "13. What can you do to save a programme from crashing if it encounters an error?  \n",
    "> We can use `Try-except`  to handle exception."
   ]
  },
  {
   "cell_type": "markdown",
   "metadata": {},
   "source": [
    "14. What is the purpose of the try clause? What is the purpose of the except clause?  \n",
    "`Try` is used to execute some piece of code, which might run into `error`,  \n",
    "then `except` caluse is used to run another block of code  if previous code in `try` block ran into error"
   ]
  },
  {
   "cell_type": "markdown",
   "metadata": {},
   "source": []
  }
 ],
 "metadata": {
  "interpreter": {
   "hash": "4e757cbe9a8595e7792e727b85d23edb46a90785f7292f43093c26cd9f514653"
  },
  "kernelspec": {
   "display_name": "Python 3.10.4 64-bit",
   "language": "python",
   "name": "python3"
  },
  "language_info": {
   "codemirror_mode": {
    "name": "ipython",
    "version": 3
   },
   "file_extension": ".py",
   "mimetype": "text/x-python",
   "name": "python",
   "nbconvert_exporter": "python",
   "pygments_lexer": "ipython3",
   "version": "3.10.4"
  },
  "orig_nbformat": 4
 },
 "nbformat": 4,
 "nbformat_minor": 2
}
