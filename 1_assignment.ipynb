{
 "cells": [
  {
   "cell_type": "markdown",
   "id": "ced51079",
   "metadata": {},
   "source": [
    "# Question1  \n",
    "In the below elements which of them are values or an expression? eg:- values can be integer or string and expressions will be mathematical operators.  \n",
    "*   \n",
    "'hello'  \n",
    "-87.8  \n",
    " -   \n",
    " +\t\n",
    "6   \n",
    "\n",
    "# Solution   \n",
    "\n",
    "    Values--->[ 'hello', -87.8, 6]  \n",
    "\n",
    "    expression--->[* , - , / , + ]"
   ]
  },
  {
   "cell_type": "markdown",
   "id": "3e537d58",
   "metadata": {},
   "source": [
    "# Question2  \n",
    "What is the difference between string and variable?  \n",
    "# Solution  \n",
    "**String** is a datatype which can contain different characters in it. for example  <**'** String with number in it 1000 **'**>. Its immutable type. And can be defined in double upper columns--> \" \" or ' '   \n",
    "**Varibale** is like a box of storage in which we can store different type of values say, *Interger, String, Float, Boolean, Dictionary*. In python variables are auto adjust it self according to type of data we are storing inside it, i.e we do not need to specify Int/Str/Float?Boolean before declaring variable."
   ]
  },
  {
   "cell_type": "markdown",
   "id": "44f57e0c",
   "metadata": {},
   "source": [
    "# Question3  \n",
    "Describe 3 different data type?  \n",
    "# Solution  \n",
    "**List** this is just like an array in other language, But it can self adjust its length according to data removed or inserted in it.\n",
    "        we can access its element with index.   \n",
    "**Integer** This can store both negative and positive numbers in it. Its of 4 byte size. We can do + _ / * operation on it.  \n",
    "**Boolean** This store only 2 value, i.e True or False. Its of 2 byte size"
   ]
  },
  {
   "cell_type": "markdown",
   "id": "e028cc4c",
   "metadata": {},
   "source": [
    "# Question4  \n",
    "What is expression made up of? WHat do all expression do?  \n",
    "## Solution\n",
    "An expression is a sentence with a minimum of two numbers or variables and at least one math operation. This math operation can be addition, subtraction, multiplication, or division. All expression perform some operation on variables and then evaluate the result, and give new value as Result"
   ]
  },
  {
   "cell_type": "markdown",
   "id": "8d3c1c47",
   "metadata": {},
   "source": [
    "# Question5  \n",
    "This assignment statements, like spam = 10. What is the difference between an expression and a statement?  \n",
    "## Solution  \n",
    "Expression is set of two or more variables and has at least one math opeartion, When expression is executed, it creates a new value as result.  \n",
    "On the other hand statement is just a single line of code which do not give any new value."
   ]
  },
  {
   "cell_type": "markdown",
   "id": "2f8dbd56",
   "metadata": {},
   "source": [
    "# Question  \n",
    "After running the following code, what does the variable bacon contain?   \n",
    "bacon = 22  \n",
    "bacon + 1  \n",
    "## Solution\n",
    "The bacoon will contain 22 "
   ]
  },
  {
   "cell_type": "markdown",
   "id": "442f791f",
   "metadata": {},
   "source": [
    "# Question  \n",
    "What should the values of the following two terms be?  \n",
    "'spam' + 'spamspam'  \n",
    "'spam' * 3\n"
   ]
  },
  {
   "cell_type": "markdown",
   "id": "b2095803",
   "metadata": {},
   "source": [
    "## Solution\n",
    "\n",
    "* 'spam' + 'spamspam'  = 'spamspamspam\n",
    "* 'spam' * 3 = spamspamspam"
   ]
  },
  {
   "cell_type": "markdown",
   "id": "93ccea94",
   "metadata": {},
   "source": [
    "# Question  \n",
    "Why is eggs a valid variable name while 100 is invalid?\n",
    "\n",
    "## Solution  \n",
    "The variable names should contain alphabetic characters. That's why `eggs` is valid name but `100` can't be variable name because compiler will confuse between if it's name or integer value of something."
   ]
  },
  {
   "cell_type": "markdown",
   "id": "656a79ed",
   "metadata": {},
   "source": [
    "# Question  \n",
    "What three functions can be used to get the integer, floating-point number, or string version of a value?  \n",
    "## Solution  \n",
    "* int(value)\n",
    "* float(value)\n",
    "* str(value)"
   ]
  },
  {
   "cell_type": "markdown",
   "id": "bbc2db56",
   "metadata": {},
   "source": [
    "# Question  \n",
    "Why does this expression cause an error? How can you fix it?  \n",
    "'I have eaten ' + 99 + ' burritos.' \n",
    "## Solution  \n",
    "In this expression we are concatinating `String` with an `Integer` which is not possible,  \n",
    "To resolve this issue we need to **Convert Integer to Str type**  \n",
    "10. Why does this expression cause an error? How can you fix it?  \n",
    "`'I have eaten ' + str(99) + ' burritos.'`\n",
    "\n"
   ]
  }
 ],
 "metadata": {
  "interpreter": {
   "hash": "4e757cbe9a8595e7792e727b85d23edb46a90785f7292f43093c26cd9f514653"
  },
  "kernelspec": {
   "display_name": "Python 3 (ipykernel)",
   "language": "python",
   "name": "python3"
  },
  "language_info": {
   "codemirror_mode": {
    "name": "ipython",
    "version": 3
   },
   "file_extension": ".py",
   "mimetype": "text/x-python",
   "name": "python",
   "nbconvert_exporter": "python",
   "pygments_lexer": "ipython3",
   "version": "3.10.4"
  }
 },
 "nbformat": 4,
 "nbformat_minor": 5
}
