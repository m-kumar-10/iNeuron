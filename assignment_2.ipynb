{
 "cells": [
  {
   "cell_type": "markdown",
   "metadata": {},
   "source": [
    "### Answer1  \n",
    "The two value of Boolean data types are either True or False  \n",
    "and we write it as  \n",
    "* Bool_dtype =  True\n",
    "* Bool_dtype =  False\n"
   ]
  },
  {
   "cell_type": "markdown",
   "metadata": {},
   "source": [
    "### Answer2  \n",
    "The Three different type of Boolean operation are  \n",
    "* AND \n",
    "* OR  \n",
    "* NOT"
   ]
  },
  {
   "cell_type": "markdown",
   "metadata": {},
   "source": [
    "### Answer3  \n",
    "\n",
    ">  AND    \n",
    "True & True = True   \n",
    "True & False = False    \n",
    "False & True = Flase    \n",
    "Flase & False = Flase     \n",
    "\n",
    "> OR   \n",
    "True & True = True  \n",
    "True & False = True  \n",
    "False & True = True  \n",
    "Flase & False = Flase  \n",
    "\n",
    "> NOT  \n",
    "True =  False\n",
    "False = True"
   ]
  },
  {
   "cell_type": "markdown",
   "metadata": {},
   "source": [
    "### Answer4  \n",
    "* (5 > 4) and (3 == 5) = False  \n",
    "* not (5 > 4)  = False  \n",
    "* (5 > 4) or (3 == 5) = True  \n",
    "* not ((5 > 4) or (3 == 5))  = False  \n",
    "* (True and True) and (True == False) = False  \n",
    "* (not False) or (not True) = True  \n"
   ]
  },
  {
   "cell_type": "markdown",
   "metadata": {},
   "source": [
    "### Answer5"
   ]
  },
  {
   "cell_type": "markdown",
   "metadata": {},
   "source": [
    "The six comparison operators are..   \n",
    "[   < , >  ,!=  ,== ,<= ,>=  ]\n"
   ]
  },
  {
   "cell_type": "markdown",
   "metadata": {},
   "source": [
    "### Answer6  \n",
    "Equal to Operator is used with double symbol of equal to ( == ),  \n",
    "While assignment operator is used with single symbol ( = )  \n",
    "when we have to assign a value to a variable we use asssignment operator, say Variable_X = 45  \n",
    "When we have to check whether something is equal to other or not then we use, Equal to Operator , say 45 == 45, this correspond to `True` Result."
   ]
  },
  {
   "cell_type": "markdown",
   "metadata": {},
   "source": [
    "### Answer7  \n",
    "The three blocks in this code:\n",
    "spam = 0  \n",
    "1. if spam == 10:    print('eggs')      \n",
    "2. if spam > 5:      print('bacon')  \n",
    "3. else:             print('ham')    \n",
    "\n",
    "    print('spam')  \n",
    "    print('spam')  \n"
   ]
  },
  {
   "cell_type": "markdown",
   "metadata": {},
   "source": [
    "Write code that prints Hello if 1 is stored in spam, prints Howdy if 2 is stored in spam, and prints Greetings! if anything else is stored in spam."
   ]
  },
  {
   "cell_type": "code",
   "execution_count": 1,
   "metadata": {},
   "outputs": [
    {
     "name": "stdout",
     "output_type": "stream",
     "text": [
      "Enter a Integer1\n",
      "Hello\n"
     ]
    }
   ],
   "source": [
    "spam = int(input('Enter a Integer'))\n",
    "if spam==1:\n",
    "    print('Hello')\n",
    "elif spam == 2:\n",
    "    print('Howdy')\n",
    "else:\n",
    "    print('Greetings!')"
   ]
  },
  {
   "cell_type": "markdown",
   "metadata": {},
   "source": [
    "### Answer9  \n",
    "If my program got stuck in endless loop, then I will Intrupt Kernel."
   ]
  },
  {
   "cell_type": "markdown",
   "metadata": {},
   "source": [
    "### Answer10  \n",
    "`Break` statement is used to break out of loop.  \n",
    "`Continue` statement is used to continue the execution of loop with skipping current code execution.exec"
   ]
  },
  {
   "cell_type": "markdown",
   "metadata": {},
   "source": [
    "### Answer11   \n",
    "In a for loop, what is the difference between range(10), range(0, 10), and range(0, 10, 1)?  \n",
    "In for loop these 3 statement litteraly doesn't differ,   \n",
    "`range(10)` --> this means, number till 10 except 10. The default start value is 0.  \n",
    "`range(0,10)` --> this means, number till 10, with starting point mentioned as 0.   \n",
    "`range(0,10,1)` --> this means number till 10, with starting point 0, and 1 will be incremented after every number."
   ]
  },
  {
   "cell_type": "markdown",
   "metadata": {},
   "source": [
    "### Answer12\n",
    "Write a short program that prints the numbers 1 to 10 using a for loop.   \n",
    "Then write an equivalent program that prints the numbers 1 to 10 using a while loop."
   ]
  },
  {
   "cell_type": "code",
   "execution_count": 16,
   "metadata": {},
   "outputs": [
    {
     "name": "stdout",
     "output_type": "stream",
     "text": [
      "1\n",
      "2\n",
      "3\n",
      "4\n",
      "5\n",
      "6\n",
      "7\n",
      "8\n",
      "9\n",
      "10\n",
      "\n",
      "\n",
      "1\n",
      "2\n",
      "3\n",
      "4\n",
      "5\n",
      "6\n",
      "7\n",
      "8\n",
      "9\n",
      "10\n"
     ]
    }
   ],
   "source": [
    "for x in range(1,11):\n",
    "    print(x)\n",
    "\n",
    "print('\\n')\n",
    "# Same task with while loop.\n",
    "num = 1\n",
    "while num < 11:\n",
    "    print(num)\n",
    "    num = num + 1"
   ]
  },
  {
   "cell_type": "markdown",
   "metadata": {},
   "source": [
    "# Question13  \n",
    "If you had a function named bacon() inside a module named spam, how would you call it after importing spam?\n",
    "### Answer  \n",
    ">import spam  \n",
    "spam.bacon()"
   ]
  }
 ],
 "metadata": {
  "interpreter": {
   "hash": "4e757cbe9a8595e7792e727b85d23edb46a90785f7292f43093c26cd9f514653"
  },
  "kernelspec": {
   "display_name": "Python 3 (ipykernel)",
   "language": "python",
   "name": "python3"
  },
  "language_info": {
   "codemirror_mode": {
    "name": "ipython",
    "version": 3
   },
   "file_extension": ".py",
   "mimetype": "text/x-python",
   "name": "python",
   "nbconvert_exporter": "python",
   "pygments_lexer": "ipython3",
   "version": "3.10.4"
  }
 },
 "nbformat": 4,
 "nbformat_minor": 2
}
