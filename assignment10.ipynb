{
 "cells": [
  {
   "cell_type": "markdown",
   "id": "16afa61d",
   "metadata": {},
   "source": [
    "<H2 style=\"color:orange;\"> > Question </H2>"
   ]
  },
  {
   "cell_type": "code",
   "execution_count": null,
   "id": "3acbd2ce",
   "metadata": {},
   "outputs": [],
   "source": [
    "1. How do you distinguish between shutil.copy() and shutil.copytree()?\n",
    "2. What function is used to rename files??\n",
    "3. What is the difference between the delete functions in the send2trash and shutil modules?\n",
    "4. ZipFile objects have a close() method just like File objects’ close() method. What ZipFile method is equivalent to File objects’ open() method?\n",
    "5. Create a programme that searches a folder tree for files with a certain file extension (such as .pdf or .jpg). Copy these files from whatever location they are in to a new folder."
   ]
  },
  {
   "cell_type": "markdown",
   "id": "3add7159",
   "metadata": {},
   "source": [
    "<H2 style=\"color:red;\"> > Answers </H2>"
   ]
  },
  {
   "cell_type": "code",
   "execution_count": 5,
   "id": "1a4e2cbd",
   "metadata": {},
   "outputs": [],
   "source": [
    "1Ans.\n",
    "    Shutil.copy() >ask for 2 parameter of file location which it gonna copy to specified location \n",
    "                    where copied file will be moved.\n",
    "        \n",
    "    Shutil.copytree() >method recursively copies an entire directory tree rooted at source (src) to the destination directory. \n",
    "                       The destination directory, named by (dst) must not already exist. It will be created during copying."
   ]
  },
  {
   "cell_type": "code",
   "execution_count": 10,
   "id": "1b54ad65",
   "metadata": {},
   "outputs": [
    {
     "data": {
      "text/plain": [
       "<module 'stat' from 'C:\\\\Users\\\\manish.k2\\\\Anaconda3\\\\lib\\\\stat.py'>"
      ]
     },
     "execution_count": 10,
     "metadata": {},
     "output_type": "execute_result"
    }
   ],
   "source": [
    "2Ans.\n",
    "    os.rename() function is used to rename the files and directories"
   ]
  },
  {
   "cell_type": "code",
   "execution_count": null,
   "id": "66d61b63",
   "metadata": {},
   "outputs": [],
   "source": [
    "3Ans.\n",
    "    send2trash() > this will send the file to recycle bin.\n",
    "    shutil.rmtree() >this will permanentaly remove file from computer disk\n",
    "    "
   ]
  },
  {
   "cell_type": "code",
   "execution_count": null,
   "id": "d7db86a2",
   "metadata": {},
   "outputs": [],
   "source": [
    "4Ans.\n",
    "    zipfile.ZipFile(\"file_name.zip\", mode= ) this method is equivalent to File object open method.\n",
    "    "
   ]
  },
  {
   "cell_type": "code",
   "execution_count": 57,
   "id": "817dea8a",
   "metadata": {},
   "outputs": [],
   "source": [
    "def file_copy(start_path,dest,file_name):\n",
    "    from termcolor import colored\n",
    "    import shutil,sys,os\n",
    "    try:\n",
    "        for root,directory,files in os.walk(start_path):\n",
    "            if file_name in files:\n",
    "                shutil.copy(src=f\"{root}\\\\{file_name}\",dst=f\"{dest}//(copy){file_name}\")\n",
    "                print(colored(f'File has been moved to set destination {dest} \\nFile Name is: (copy){file_name}',color='magenta',attrs=['bold','underline']))\n",
    "                break;\n",
    "    except shutil.SameFileError:\n",
    "        print(colored('Source & Destination represent Same file', color='red',attrs=['blink','bold']))\n",
    "    except PermissionError:\n",
    "        print(colored('There is an issue with writing/reading permission in destination',color='red',attrs=['bold','blink']))\n",
    "    except Exception as e:\n",
    "        print(sys.exc_info())\n",
    "        print(e.__class__())"
   ]
  },
  {
   "cell_type": "code",
   "execution_count": 56,
   "id": "ca496b01",
   "metadata": {},
   "outputs": [
    {
     "name": "stdout",
     "output_type": "stream",
     "text": [
      "\u001b[4m\u001b[1m\u001b[35mFile has been moved to set destination C:\\Users\\manish.k2\\Downloads\\Bi \n",
      "File Name is: (copy)zepp step2.csv\u001b[0m\n"
     ]
    }
   ],
   "source": [
    "file_name=r'zepp step2.csv'\n",
    "start_path=r'C:\\Users\\manish.k2'\n",
    "dest = r'C:\\Users\\manish.k2\\Downloads\\Bi'\n",
    "\n",
    "\n",
    "file_copy(start_path=start_path, dest=dest, file_name=file_name) "
   ]
  }
 ],
 "metadata": {
  "kernelspec": {
   "display_name": "Python 3 (ipykernel)",
   "language": "python",
   "name": "python3"
  },
  "language_info": {
   "codemirror_mode": {
    "name": "ipython",
    "version": 3
   },
   "file_extension": ".py",
   "mimetype": "text/x-python",
   "name": "python",
   "nbconvert_exporter": "python",
   "pygments_lexer": "ipython3",
   "version": "3.9.12"
  }
 },
 "nbformat": 4,
 "nbformat_minor": 5
}
